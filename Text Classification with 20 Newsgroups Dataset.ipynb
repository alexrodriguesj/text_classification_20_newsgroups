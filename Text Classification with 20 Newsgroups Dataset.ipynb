{
 "cells": [
  {
   "cell_type": "markdown",
   "id": "b8cf3af4-e729-4a86-8dc3-d8f5165e467b",
   "metadata": {},
   "source": [
    "# Text Classification with 20 Newsgroups Dataset"
   ]
  },
  {
   "cell_type": "markdown",
   "id": "7e482243-95e3-4c4c-9c17-deb9c6d3528b",
   "metadata": {},
   "source": [
    "We will use the 20 Newsgroups dataset, which contains approximately 20,000 newsgroup documents, partitioned across 20 different newsgroups. \n",
    "The dataset is available in the sklearn.datasets module of Scikit-learn."
   ]
  },
  {
   "cell_type": "markdown",
   "id": "fd1317f5-d9a3-4383-b441-5b3aa61443ec",
   "metadata": {},
   "source": [
    "## Setup"
   ]
  },
  {
   "cell_type": "code",
   "execution_count": null,
   "id": "18e59e0f-079f-417a-8b43-d7dc6c7b707f",
   "metadata": {},
   "outputs": [],
   "source": [
    "!pip install pandas scikit-learn nltk matplotlib seaborn"
   ]
  },
  {
   "cell_type": "code",
   "execution_count": null,
   "id": "41059276-587a-469f-8ba5-df2fb9f5f0a6",
   "metadata": {},
   "outputs": [],
   "source": [
    "# Import libraries\n",
    "import pandas as pd\n",
    "from sklearn.datasets import fetch_20newsgroups\n",
    "from sklearn.model_selection import train_test_split\n",
    "from sklearn.feature_extraction.text import TfidfVectorizer\n",
    "from sklearn.linear_model import LogisticRegression\n",
    "from sklearn.metrics import accuracy_score, classification_report, confusion_matrix\n",
    "import nltk\n",
    "from nltk.corpus import stopwords\n",
    "import re\n",
    "import matplotlib.pyplot as plt \n",
    "import seaborn as sns"
   ]
  },
  {
   "cell_type": "code",
   "execution_count": null,
   "id": "8192aae1-7133-42ba-a95b-4db54436164b",
   "metadata": {},
   "outputs": [],
   "source": [
    "# Suppress the warnings\n",
    "import warnings\n",
    "warnings.filterwarnings(\"ignore\", category=FutureWarning)"
   ]
  },
  {
   "cell_type": "markdown",
   "id": "2e27b9f9-8078-44b6-a54c-d51f60495548",
   "metadata": {},
   "source": [
    "## Load the data"
   ]
  },
  {
   "cell_type": "code",
   "execution_count": null,
   "id": "3f1c2641-34cf-464a-b704-4622bcf8530e",
   "metadata": {},
   "outputs": [],
   "source": [
    "# Load the dataset\n",
    "newsgroups = fetch_20newsgroups(subset='all', shuffle=True, random_state=42)"
   ]
  },
  {
   "cell_type": "code",
   "execution_count": null,
   "id": "12665b3d-115f-4267-947f-8279001cebde",
   "metadata": {},
   "outputs": [],
   "source": [
    "# Download NLTK stopwords\n",
    "nltk.download('stopwords')\n",
    "stop_words = stopwords.words('english')"
   ]
  },
  {
   "cell_type": "markdown",
   "id": "49f6814c-f2d2-44f6-a476-6ca6a00f3a1a",
   "metadata": {},
   "source": [
    "## Text Preprocessing"
   ]
  },
  {
   "cell_type": "code",
   "execution_count": null,
   "id": "3ced6cf4-88fc-4371-b3d2-f97fa600056b",
   "metadata": {},
   "outputs": [],
   "source": [
    "# Text preprocessing function\n",
    "def preprocess_text(text):\n",
    "    text = text.lower() # Lowercase\n",
    "    text = re.sub(r'[^a-zA-Z\\s]', '', text) # Remove special characters and numbers\n",
    "    stop_words = set(stopwords.words('english')) # Tokenize and remove stop words\n",
    "    tokens = text.split()\n",
    "    tokens = [word for word in tokens if word not in stop_words] # Join tokens back to a single string\n",
    "    return ' '.join(tokens)"
   ]
  },
  {
   "cell_type": "code",
   "execution_count": null,
   "id": "1ab1d5a2-121e-4c30-86b7-95d82d4aa497",
   "metadata": {},
   "outputs": [],
   "source": [
    "# Apply preprocessing\n",
    "newsgroups_data = pd.DataFrame({'text': newsgroups.data, 'target': newsgroups.target})\n",
    "newsgroups_data['text'] = newsgroups_data['text'].apply(preprocess_text)"
   ]
  },
  {
   "cell_type": "markdown",
   "id": "fd76af28-3f8d-4831-b48d-61dd2441aabc",
   "metadata": {},
   "source": [
    "## Split Data into Train and Test Sets"
   ]
  },
  {
   "cell_type": "code",
   "execution_count": null,
   "id": "c4a76a16-4902-4dd2-9344-992a673fc571",
   "metadata": {},
   "outputs": [],
   "source": [
    "# Split the data\n",
    "X_train, X_test, y_train, y_test = train_test_split(newsgroups_data['text'], newsgroups_data['target'], test_size=0.2, random_state=42)"
   ]
  },
  {
   "cell_type": "markdown",
   "id": "3acb387c-eb24-4ebc-b9fb-ab78a6b1d7fc",
   "metadata": {},
   "source": [
    "## Vectorize the text"
   ]
  },
  {
   "cell_type": "code",
   "execution_count": null,
   "id": "18da9900-d1a7-42de-9151-d086f774afb3",
   "metadata": {},
   "outputs": [],
   "source": [
    "# Vectorize the text\n",
    "vectorizer = TfidfVectorizer(stop_words=stop_words, max_features=5000)\n",
    "X_train_vec = vectorizer.fit_transform(X_train)\n",
    "X_test_vec = vectorizer.transform(X_test)"
   ]
  },
  {
   "cell_type": "markdown",
   "id": "8e4fc79e-f8fd-4e5a-8c8d-c14d5d134e41",
   "metadata": {},
   "source": [
    "## Train the model"
   ]
  },
  {
   "cell_type": "code",
   "execution_count": null,
   "id": "8ba0a7ae-3041-4814-a22f-357fbd26bb8b",
   "metadata": {},
   "outputs": [],
   "source": [
    "# Train the model\n",
    "model = LogisticRegression(max_iter=1000)\n",
    "model.fit(X_train_vec, y_train)"
   ]
  },
  {
   "cell_type": "markdown",
   "id": "af239051-3b6e-43d0-ab13-154c8d321317",
   "metadata": {},
   "source": [
    "## Evaluate the model"
   ]
  },
  {
   "cell_type": "code",
   "execution_count": null,
   "id": "a9e62277-e10d-4a05-8720-afae1d13ee4a",
   "metadata": {},
   "outputs": [],
   "source": [
    "# Predict on the test set\n",
    "y_pred = model.predict(X_test_vec)"
   ]
  },
  {
   "cell_type": "code",
   "execution_count": null,
   "id": "49e4280e-c2b8-4981-a4a2-64e0268493a1",
   "metadata": {},
   "outputs": [],
   "source": [
    "# Evaluate the model\n",
    "print(f'Accuracy: {accuracy_score(y_test, y_pred)}')\n",
    "print(classification_report(y_test, y_pred, target_names=newsgroups.target_names))"
   ]
  },
  {
   "cell_type": "code",
   "execution_count": null,
   "id": "b01b78c9-440e-402a-8a80-b421778126c7",
   "metadata": {},
   "outputs": [],
   "source": [
    "# Confusion matrix visualization\n",
    "plt.figure(figsize=(10, 7))\n",
    "sns.heatmap(confusion_matrix(y_test, y_pred), annot=True, fmt='d', cmap='Blues')\n",
    "plt.xlabel('Predicted')\n",
    "plt.ylabel('Actual')\n",
    "plt.title('Confusion Matrix')\n",
    "plt.show()"
   ]
  },
  {
   "cell_type": "markdown",
   "id": "589fc863-0bde-424d-a688-c30600266085",
   "metadata": {},
   "source": [
    "## Test with some new text"
   ]
  },
  {
   "cell_type": "code",
   "execution_count": null,
   "id": "236998fd-d73a-4320-a4fc-8d598b9503ec",
   "metadata": {},
   "outputs": [],
   "source": [
    "# Function to predict new text\n",
    "def predict_new_text(model, vectorizer, text):\n",
    "    \n",
    "    text_processed = preprocess_text(text) # Preprocess the text\n",
    "    \n",
    "    text_vectorized = vectorizer.transform([text_processed]) # Vectorize the text\n",
    "    \n",
    "    prediction = model.predict(text_vectorized) # Predict the category\n",
    "      \n",
    "    category_name = newsgroups.target_names[prediction[0]] # Get the category name\n",
    "    \n",
    "    return category_name"
   ]
  },
  {
   "cell_type": "code",
   "execution_count": null,
   "id": "17afd982-a245-4a91-9d5b-830a03129de7",
   "metadata": {},
   "outputs": [],
   "source": [
    "# Test the function with some new text\n",
    "test_text = \"NASA discovers new exoplanet in the habitable zone.\"\n",
    "predicted_category = predict_new_text(model, vectorizer, test_text)\n",
    "print(f'Test Text: \"{test_text}\"\\nPredicted Category: \"{predicted_category}\"')"
   ]
  },
  {
   "cell_type": "code",
   "execution_count": null,
   "id": "8b0ea32f-932c-4577-bf68-088ae12c4463",
   "metadata": {},
   "outputs": [],
   "source": [
    "test_texts = [\n",
    "    \"NASA discovers new exoplanet in the habitable zone.\",\n",
    "    \"The car race yesterday was amazing.\",\n",
    "    \"Python is a versatile programming language for data science.\",\n",
    "    \"Pope Francis is the Pope and head of the Catholic Church.\"\n",
    "]\n",
    "\n",
    "for text in test_texts:\n",
    "    predicted_category = predict_new_text(model, vectorizer, text)\n",
    "    print(f'Test Text: \"{text}\"\\nPredicted Category: \"{predicted_category}\"\\n')"
   ]
  }
 ],
 "metadata": {
  "kernelspec": {
   "display_name": "Python 3 (ipykernel)",
   "language": "python",
   "name": "python3"
  },
  "language_info": {
   "codemirror_mode": {
    "name": "ipython",
    "version": 3
   },
   "file_extension": ".py",
   "mimetype": "text/x-python",
   "name": "python",
   "nbconvert_exporter": "python",
   "pygments_lexer": "ipython3",
   "version": "3.11.5"
  }
 },
 "nbformat": 4,
 "nbformat_minor": 5
}
